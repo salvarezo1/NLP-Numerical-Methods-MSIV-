{
  "nbformat": 4,
  "nbformat_minor": 0,
  "metadata": {
    "colab": {
      "name": "Comparation-of-numerical-methods.ipynb",
      "provenance": [],
      "collapsed_sections": []
    },
    "kernelspec": {
      "name": "python3",
      "display_name": "Python 3"
    },
    "language_info": {
      "name": "python"
    }
  },
  "cells": [
    {
      "cell_type": "code",
      "metadata": {
        "id": "J5gFZ-WNWB_E"
      },
      "source": [
        "import pandas as pd\n",
        "from scipy import linalg as LA\n",
        "from sklearn import metrics"
      ],
      "execution_count": null,
      "outputs": []
    },
    {
      "cell_type": "code",
      "metadata": {
        "colab": {
          "base_uri": "https://localhost:8080/",
          "height": 293
        },
        "id": "sOc_oI2WKASW",
        "outputId": "fc11c39a-4c3d-4897-e825-45740772c828"
      },
      "source": [
        "# data = pd.read_csv('Dataset-with-sentiments.csv')\n",
        "data = pd.read_csv('Dataset-with-sentiments_f.csv')\n",
        "data.head(5)"
      ],
      "execution_count": null,
      "outputs": [
        {
          "output_type": "execute_result",
          "data": {
            "text/html": [
              "<div>\n",
              "<style scoped>\n",
              "    .dataframe tbody tr th:only-of-type {\n",
              "        vertical-align: middle;\n",
              "    }\n",
              "\n",
              "    .dataframe tbody tr th {\n",
              "        vertical-align: top;\n",
              "    }\n",
              "\n",
              "    .dataframe thead th {\n",
              "        text-align: right;\n",
              "    }\n",
              "</style>\n",
              "<table border=\"1\" class=\"dataframe\">\n",
              "  <thead>\n",
              "    <tr style=\"text-align: right;\">\n",
              "      <th></th>\n",
              "      <th>Video ID</th>\n",
              "      <th>Comment ID</th>\n",
              "      <th>comments</th>\n",
              "      <th>Likes</th>\n",
              "      <th>polarity</th>\n",
              "      <th>pol_cat</th>\n",
              "      <th>stop_comments</th>\n",
              "    </tr>\n",
              "  </thead>\n",
              "  <tbody>\n",
              "    <tr>\n",
              "      <th>0</th>\n",
              "      <td>olNBpijKXK0</td>\n",
              "      <td>UgxbB1bnhONxojuRHVB4AaABAg</td>\n",
              "      <td>the  reason  this  guy  cleans  up  youtube  b...</td>\n",
              "      <td>36</td>\n",
              "      <td>0.500000</td>\n",
              "      <td>1</td>\n",
              "      <td>reason guy cleans youtube better youtube youtu...</td>\n",
              "    </tr>\n",
              "    <tr>\n",
              "      <th>1</th>\n",
              "      <td>olNBpijKXK0</td>\n",
              "      <td>UgwGeaisDBGo180N9s94AaABAg</td>\n",
              "      <td>my  sisters  obsessed  with  her  lol</td>\n",
              "      <td>0</td>\n",
              "      <td>0.150000</td>\n",
              "      <td>1</td>\n",
              "      <td>sisters obsessed lol</td>\n",
              "    </tr>\n",
              "    <tr>\n",
              "      <th>2</th>\n",
              "      <td>olNBpijKXK0</td>\n",
              "      <td>UgwZeoXGyVtdNro1DZN4AaABAg</td>\n",
              "      <td>video      is  cringy  and  terrible  and  sup...</td>\n",
              "      <td>209</td>\n",
              "      <td>-0.208333</td>\n",
              "      <td>0</td>\n",
              "      <td>video cringy terrible super fake girl cell n't...</td>\n",
              "    </tr>\n",
              "    <tr>\n",
              "      <th>3</th>\n",
              "      <td>olNBpijKXK0</td>\n",
              "      <td>UgxRiDxI05a5IMZRORJ4AaABAg</td>\n",
              "      <td>a  kid  in  my  class  watched  her</td>\n",
              "      <td>0</td>\n",
              "      <td>0.000000</td>\n",
              "      <td>0</td>\n",
              "      <td>kid class watched</td>\n",
              "    </tr>\n",
              "    <tr>\n",
              "      <th>4</th>\n",
              "      <td>olNBpijKXK0</td>\n",
              "      <td>UgxKSzTOMx64G_yxFIN4AaABAg</td>\n",
              "      <td>in  rebbeca  zomolos  videos  in  the  descrip...</td>\n",
              "      <td>1</td>\n",
              "      <td>-0.050000</td>\n",
              "      <td>0</td>\n",
              "      <td>rebbeca zomolos videos description says thank ...</td>\n",
              "    </tr>\n",
              "  </tbody>\n",
              "</table>\n",
              "</div>"
            ],
            "text/plain": [
              "      Video ID  ...                                      stop_comments\n",
              "0  olNBpijKXK0  ...  reason guy cleans youtube better youtube youtu...\n",
              "1  olNBpijKXK0  ...                               sisters obsessed lol\n",
              "2  olNBpijKXK0  ...  video cringy terrible super fake girl cell n't...\n",
              "3  olNBpijKXK0  ...                                  kid class watched\n",
              "4  olNBpijKXK0  ...  rebbeca zomolos videos description says thank ...\n",
              "\n",
              "[5 rows x 7 columns]"
            ]
          },
          "metadata": {},
          "execution_count": 2
        }
      ]
    },
    {
      "cell_type": "code",
      "metadata": {
        "id": "NAVjRxpEXhzs"
      },
      "source": [
        ""
      ],
      "execution_count": null,
      "outputs": []
    },
    {
      "cell_type": "code",
      "metadata": {
        "id": "f_gyN-auXh2F"
      },
      "source": [
        ""
      ],
      "execution_count": null,
      "outputs": []
    },
    {
      "cell_type": "code",
      "metadata": {
        "id": "HIdiQSNaXh62"
      },
      "source": [
        ""
      ],
      "execution_count": null,
      "outputs": []
    },
    {
      "cell_type": "code",
      "metadata": {
        "colab": {
          "base_uri": "https://localhost:8080/"
        },
        "id": "mpRMqsFCXsmq",
        "outputId": "553343c4-acb0-498d-effe-5becc644e87e"
      },
      "source": [
        "sum(data['stop_comments'].isnull())\n"
      ],
      "execution_count": null,
      "outputs": [
        {
          "output_type": "execute_result",
          "data": {
            "text/plain": [
              "8"
            ]
          },
          "metadata": {},
          "execution_count": 3
        }
      ]
    },
    {
      "cell_type": "code",
      "metadata": {
        "id": "J2c0AVHVXsom"
      },
      "source": [
        "data = data[data['stop_comments'].notnull()]"
      ],
      "execution_count": null,
      "outputs": []
    },
    {
      "cell_type": "code",
      "metadata": {
        "colab": {
          "base_uri": "https://localhost:8080/"
        },
        "id": "X47G8LtaXsqa",
        "outputId": "f22e6d95-3618-4517-c43a-0c4c3d6f1cc3"
      },
      "source": [
        "sum(data['stop_comments'].isnull())"
      ],
      "execution_count": null,
      "outputs": [
        {
          "output_type": "execute_result",
          "data": {
            "text/plain": [
              "0"
            ]
          },
          "metadata": {},
          "execution_count": 5
        }
      ]
    },
    {
      "cell_type": "code",
      "metadata": {
        "id": "4oJdYZIfkahB"
      },
      "source": [
        ""
      ],
      "execution_count": null,
      "outputs": []
    },
    {
      "cell_type": "code",
      "metadata": {
        "id": "MGATddlAkanR"
      },
      "source": [
        ""
      ],
      "execution_count": null,
      "outputs": []
    },
    {
      "cell_type": "code",
      "metadata": {
        "colab": {
          "base_uri": "https://localhost:8080/"
        },
        "id": "s3j4DacKXssL",
        "outputId": "795294b0-8db9-4821-a81a-639f2866e1d7"
      },
      "source": [
        "data['pol_cat']"
      ],
      "execution_count": null,
      "outputs": [
        {
          "output_type": "execute_result",
          "data": {
            "text/plain": [
              "0       1\n",
              "1       1\n",
              "2       0\n",
              "3       0\n",
              "4       0\n",
              "       ..\n",
              "8137    1\n",
              "8138    1\n",
              "8139    0\n",
              "8140    1\n",
              "8141    0\n",
              "Name: pol_cat, Length: 8134, dtype: int64"
            ]
          },
          "metadata": {},
          "execution_count": 6
        }
      ]
    },
    {
      "cell_type": "code",
      "metadata": {
        "id": "AGN10wmnkbnJ"
      },
      "source": [
        "data[data['pol_cat']==-1] = 0"
      ],
      "execution_count": null,
      "outputs": []
    },
    {
      "cell_type": "code",
      "metadata": {
        "colab": {
          "base_uri": "https://localhost:8080/"
        },
        "id": "qVmBbynlkbt5",
        "outputId": "56c0220b-61de-4089-ed76-8902b3302b70"
      },
      "source": [
        "data['pol_cat']"
      ],
      "execution_count": null,
      "outputs": [
        {
          "output_type": "execute_result",
          "data": {
            "text/plain": [
              "0       1\n",
              "1       1\n",
              "2       0\n",
              "3       0\n",
              "4       0\n",
              "       ..\n",
              "8137    1\n",
              "8138    1\n",
              "8139    0\n",
              "8140    1\n",
              "8141    0\n",
              "Name: pol_cat, Length: 8134, dtype: int64"
            ]
          },
          "metadata": {},
          "execution_count": 8
        }
      ]
    },
    {
      "cell_type": "code",
      "metadata": {
        "id": "q-vcKnLxlYzE"
      },
      "source": [
        ""
      ],
      "execution_count": null,
      "outputs": []
    },
    {
      "cell_type": "code",
      "metadata": {
        "colab": {
          "base_uri": "https://localhost:8080/"
        },
        "id": "5JrH_VwMlY2C",
        "outputId": "39a77122-90a8-4ba6-d3e4-d05d60cc998c"
      },
      "source": [
        "data.info()"
      ],
      "execution_count": null,
      "outputs": [
        {
          "output_type": "stream",
          "name": "stdout",
          "text": [
            "<class 'pandas.core.frame.DataFrame'>\n",
            "Int64Index: 8134 entries, 0 to 8141\n",
            "Data columns (total 7 columns):\n",
            " #   Column         Non-Null Count  Dtype  \n",
            "---  ------         --------------  -----  \n",
            " 0   Video ID       8134 non-null   object \n",
            " 1   Comment ID     8134 non-null   object \n",
            " 2   comments       8134 non-null   object \n",
            " 3   Likes          8134 non-null   int64  \n",
            " 4   polarity       8134 non-null   float64\n",
            " 5   pol_cat        8134 non-null   int64  \n",
            " 6   stop_comments  8134 non-null   object \n",
            "dtypes: float64(1), int64(2), object(4)\n",
            "memory usage: 508.4+ KB\n"
          ]
        }
      ]
    },
    {
      "cell_type": "code",
      "metadata": {
        "id": "1HEC6o4mlwxg"
      },
      "source": [
        "data['stop_comments'] = data[['stop_comments']].astype(str)"
      ],
      "execution_count": null,
      "outputs": []
    },
    {
      "cell_type": "code",
      "metadata": {
        "id": "5AMmchcUXsue"
      },
      "source": [
        ""
      ],
      "execution_count": null,
      "outputs": []
    },
    {
      "cell_type": "code",
      "metadata": {
        "id": "2c7nj5ojXfk9"
      },
      "source": [
        "from sklearn.model_selection import train_test_split"
      ],
      "execution_count": null,
      "outputs": []
    },
    {
      "cell_type": "code",
      "metadata": {
        "id": "w4zTUfJVXcV7"
      },
      "source": [
        "X_train,X_test,y_train,y_test = train_test_split(data['stop_comments'],data['pol_cat'],test_size = 0.2,random_state = 324)"
      ],
      "execution_count": null,
      "outputs": []
    },
    {
      "cell_type": "code",
      "metadata": {
        "id": "GaDH7-GalgVs"
      },
      "source": [
        ""
      ],
      "execution_count": null,
      "outputs": []
    },
    {
      "cell_type": "code",
      "metadata": {
        "id": "6w5FIpXfW_Y3"
      },
      "source": [
        "from sklearn.feature_extraction.text import CountVectorizer, TfidfVectorizer \n",
        "vect = CountVectorizer()\n",
        "tf_train = vect.fit_transform(X_train)\n",
        "tf_test = vect.transform(X_test)"
      ],
      "execution_count": null,
      "outputs": []
    },
    {
      "cell_type": "code",
      "metadata": {
        "id": "eCPw36U2YelA"
      },
      "source": [
        "tf_train = tf_train.toarray()\n",
        "tf_test = tf_test.toarray()"
      ],
      "execution_count": null,
      "outputs": []
    },
    {
      "cell_type": "code",
      "metadata": {
        "id": "qVQ2Zy_H3HiX"
      },
      "source": [
        "import numpy as np\n",
        "\n",
        "from sklearn import datasets\n",
        "from sklearn.linear_model import LogisticRegression as sklearnLogisticRegression\n",
        "\n",
        "class LogisticRegression:\n",
        "    \"\"\"\n",
        "            Purpose: To estimate Logistic regression parameters in Python.\n",
        "            Inputs:\n",
        "                alpha           : Is the optimisation learning rate.\n",
        "                maxIterations   : Maximum number of iterations for optimisation routine..\n",
        "                fitIntercept    : Include the intercept in the model fit.\n",
        "                verbose         : Display program information.\n",
        "                optimisation    : The optimisation routine to use. Options are:\n",
        "                                            gradientAscent\n",
        "                                            newton\n",
        "    \"\"\"\n",
        "    def __init__(self, alpha=0.01, maxIterations=100000, fitIntercept=True, verbose=False,optimisation=\"gradientAscent\"):\n",
        "        self.alpha = alpha\n",
        "        self.maxIterations = maxIterations  # Maximum number of times to run the optimisation.\n",
        "        self.numIterations = 0;             # Record the number of iterations performed.\n",
        "        self.hasConverged = False;          # This variable is used to terminate the iterations searching for optimum parameters.\n",
        "        self.fitIntercept = fitIntercept\n",
        "        self.verbose = verbose\n",
        "        self.costHistory = [];\n",
        "        self.tolerance = tol=0; # convergence tolerance;\n",
        "        self.theta=[];\n",
        "        self.optimisation = optimisation;\n",
        "\n",
        "    def __add_intercept(X):\n",
        "        X = X.reshape(len(X), -1)\n",
        "        intercept = np.ones((X.shape[0], 1))\n",
        "        return np.concatenate((intercept, X), axis=1)\n",
        "\n",
        "    def __sigmoid(z):\n",
        "        return 1 / (1 + np.exp(-z))\n",
        "\n",
        "\n",
        "    def __cost(self, X, y, theta):\n",
        "        # Purpose: Logistic regression log cost function.\n",
        "        z = np.dot(X, theta)\n",
        "        p = LogisticRegression.__sigmoid(z)\n",
        "        return (-y * np.log(p) - (1 - y) * np.log(1 - p)).mean()\n",
        "\n",
        "    def gradientAscent(X,y,theta,alpha):\n",
        "        z = np.dot(X, theta)\n",
        "        p = LogisticRegression.__sigmoid(z)\n",
        "        gradient = np.dot(X.T, (p - y)) / y.size;  # 1st derivative of log likelihood wrt parameters.\n",
        "        theta -= alpha * gradient  # Update the parameters.\n",
        "\n",
        "        return theta;\n",
        "    \n",
        "    def gradientAscent2(X,y,theta,alpha):\n",
        "        z = np.dot(X, theta)\n",
        "        p = LogisticRegression.__sigmoid(z)\n",
        "        aux = np.dot(X.T, (p - y))\n",
        "        r = np.median(np.abs(aux[aux != 0]))\n",
        "        # print(r)\n",
        "        if r == 0:\n",
        "          r = 1/y.size;\n",
        "        gradient = r*np.dot(X.T, (p - y));  # 1st derivative of log likelihood wrt parameters.\n",
        "        #print(gradient)\n",
        "        theta -= alpha * gradient  # Update the parameters.\n",
        "\n",
        "        return theta;\n",
        "\n",
        "    def newton(X,y,theta,useRegulisation=False,regulisationParameter=0):\n",
        "        \"\"\" Newton optimisation method.\"\"\"\n",
        "        z = np.dot(X, theta)\n",
        "        p = LogisticRegression.__sigmoid(z)\n",
        "        W = np.diag(p * (1 - p))\n",
        "        hessian = X.T.dot(W).dot(X);\n",
        "\n",
        "        \n",
        "        eig_vals, eig_vects = LA.eig(hessian)\n",
        "\n",
        "        print(len(eig_vals))\n",
        "        val = np.max(eig_vals)\n",
        "        #val = 2\n",
        "\n",
        "        if val < 0:\n",
        "          val *= -1\n",
        "\n",
        "        #val = 1/val;\n",
        "        print(val)\n",
        "\n",
        "        a = np.zeros((len(hessian), len(hessian))) #Inicializo una matriz\n",
        "        np.fill_diagonal(a, np.linalg.norm(val)) # Relleno la diagonal con un valor especifico\n",
        "\n",
        "        #print(a[0,0], np.linalg.norm(val))\n",
        "        hessian = hessian + a\n",
        "        \n",
        "\n",
        "        gradient = np.dot(X.T, (y-p));  # 1st derivative of log likelihood wrt parameters.\n",
        "\n",
        "        '''\n",
        "        try:\n",
        "            if useRegulisation:\n",
        "                step = np.dot(np.linalg.inv(hessian + regulisationParameter * np.eye(theta)), grad)\n",
        "            else:\n",
        "                step = np.dot(np.linalg.inv(hessian), gradient)\n",
        "        except np.linalg.LinAlgError:\n",
        "            step=0;'''\n",
        "        \n",
        "        #print(hessian)\n",
        "        print(hessian.shape)\n",
        "        #print(hessian[0,0])\n",
        "        hs = np.linalg.inv(hessian)\n",
        "        print(hs)\n",
        "        step = np.dot(hs, gradient)\n",
        "\n",
        "        ## update the weights\n",
        "        theta = theta + step\n",
        "\n",
        "        print(theta)\n",
        "\n",
        "\n",
        "        return theta;\n",
        "\n",
        "    def fit(self, X, y):\n",
        "        if self.fitIntercept:\n",
        "            X = LogisticRegression.__add_intercept(X=X)\n",
        "\n",
        "\n",
        "        self.theta = np.zeros(X.shape[1]);  # Initialise weights.\n",
        "        alpha=self.alpha;\n",
        "\n",
        "        cost = self.__cost(X, y, self.theta);  # Calculate the cost.\n",
        "        self.costHistory.append(cost);  # Record the intitial cost for plotting.\n",
        "\n",
        "\n",
        "        iterCount=0;\n",
        "\n",
        "        while not self.hasConverged:\n",
        "            # Perform the optimisation many times to reduce the cost by improving the parameters.\n",
        "            iterCount+=1;                       # Counter for the number of optimisation iterations.\n",
        "\n",
        "            # Depending on the optimisation approach. Calculate the coeffient update step differently.\n",
        "            if self.optimisation==\"gradientAscent\":\n",
        "                theta = LogisticRegression.gradientAscent(X,y,self.theta,self.alpha)\n",
        "                iterDisplayVerbose = 1000;\n",
        "            elif self.optimisation==\"newton\":\n",
        "                theta = LogisticRegression.newton(X, y, self.theta)\n",
        "                iterDisplayVerbose = 1;             # The number of iteration steps is significantly less than Gradient Ascent.\n",
        "            elif self.optimisation==\"gradientAscent2\":\n",
        "                theta = LogisticRegression.gradientAscent2(X,y,self.theta,self.alpha)\n",
        "                iterDisplayVerbose = 1000;\n",
        "            else:\n",
        "                assert \"unknown optimisation routine.\"\n",
        "                return;\n",
        "\n",
        "            cost = self.__cost(X,y, theta);     # Calculate the cost.\n",
        "\n",
        "\n",
        "            if iterCount>1:\n",
        "            # Only check to terminate optimisation after performing the second optimisation calculation.\n",
        "                hasConverged = self.__checkConvergence(self.costHistory[-1], cost, self.tolerance,iterCount);  # Check if should terminate iteration updates as convergence tolerance has been reached.\n",
        "\n",
        "                if hasConverged.hasConverged==True:\n",
        "                    print(\"Iteration #:  {:>7,.0f}.  Cost: {:>+7.4f}.\".format(iterCount, cost));\n",
        "                    print(\"Finished because {}. Using {} optimisation method.\".format(hasConverged.reason, self.optimisation));\n",
        "                    self.numIterations = iterCount;\n",
        "                    self.hasConverged == True;\n",
        "\n",
        "                if (self.verbose == True and iterCount % iterDisplayVerbose == 0) and  hasConverged.hasConverged==False:\n",
        "                    # Print out the log output.\n",
        "                    print(\"Iteration #:  {:>7,.0f}.  Cost: {:>+7.4f}\".format(iterCount, cost));\n",
        "\n",
        "\n",
        "            if iterCount < 2:\n",
        "\n",
        "                if (self.verbose == True and iterCount % iterDisplayVerbose == 0):\n",
        "                    # Print out the log output.\n",
        "                    print(\"Iteration #:  {:>7,.0f}.  Cost: {:>+7.4f}\".format(iterCount, cost));\n",
        "\n",
        "                self.theta = theta;\n",
        "                self.costHistory.append(cost);  # Record the cost for plotting.\n",
        "            else:\n",
        "                if not (((self.optimisation == \"newton\") and (cost > self.costHistory[-1])) or (np.isnan(cost))) or iterCount<1:\n",
        "                    # The Newton method on the last step can give coefficients well off and a worse cost as close to the singularity.\n",
        "                    # Because of this. Not recording the last theta and cost found in this case and using the previous one.\n",
        "                    self.theta = theta;\n",
        "                    self.costHistory.append(cost);  # Record the cost for plotting.\n",
        "\n",
        "\n",
        "    def __checkConvergence(self,previousCost, cost, tolerance, iterCount):\n",
        "        ''' Purpose: Checks if coefficients have converged.\n",
        "            Returns True if they have converged, False otherwise.'''\n",
        "        costChange = np.abs(previousCost - cost)\n",
        "\n",
        "        self.reason=\"\";\n",
        "        self.hasConverged=False;\n",
        "        if (np.any(costChange < tolerance)):\n",
        "            self.reason = \"cost function tolerance reached\";\n",
        "            self.hasConverged = True;\n",
        "\n",
        "        # If havn't reached thresholds, perform more iterations (keep training).\n",
        "        if (iterCount > self.maxIterations):\n",
        "            self.reason=\"maximum iterations reached\"\n",
        "            self.hasConverged = True;\n",
        "\n",
        "\n",
        "        if (self.optimisation == \"newton\"):\n",
        "            if (np.isnan(cost)):\n",
        "                # The Newton method on the last step can give coefficients well off and a worse cost as close to the singularity.\n",
        "                # Because of this. Not recording the last theta and cost found in this case and using the previous one.\n",
        "                self.reason=\"singular Hessian\"\n",
        "                self.hasConverged = True;\n",
        "            elif (cost > previousCost):\n",
        "                # The Newton method on the last step can give coefficients well off and a worse cost as close to the singularity.\n",
        "                # Because of this. Not recording the last theta and cost found in this case and using the previous one.\n",
        "                self.reason=\"cost function worsoning as close to solution\"\n",
        "                self.hasConverged = True;\n",
        "\n",
        "\n",
        "\n",
        "        return self\n",
        "\n",
        "\n",
        "    def predict_prob(X,theta,fitIntercept=True):\n",
        "        if fitIntercept:\n",
        "            X = LogisticRegression.__add_intercept(X=X)\n",
        "\n",
        "        return LogisticRegression.__sigmoid(np.dot(X, theta))\n",
        "\n",
        "    def predict(self, X):\n",
        "        #return LogisticRegression.predict_prob((X).round(),self.theta,self.fitIntercept)\n",
        "        prob = LogisticRegression.predict_prob((X).round(),self.theta,self.fitIntercept)\n",
        "        if (prob > 0.5):\n",
        "          return 1\n",
        "        return 0\n",
        "\n",
        "    def formattedOutput(objLogisticRegression):\n",
        "        \"\"\"\n",
        "        Purpose: To produce readable output summary of the results.\n",
        "            Input:\n",
        "                LogisticRegression  : A class instance containing the fitted information.\n",
        "        \"\"\"\n",
        "        optimisationMethod=objLogisticRegression.optimisation;\n",
        "        theta=objLogisticRegression.theta;\n",
        "        inititialCost=objLogisticRegression.costHistory[0];\n",
        "        finalCost=objLogisticRegression.costHistory[-1];\n",
        "        numIterations=objLogisticRegression.numIterations;\n",
        "\n",
        "\n",
        "        dash = '=' * 80; #chr(10000)*50\n",
        "        print(dash)\n",
        "        print(\"LOGISTIC REGRESSION USING {0} TERRMINATION RESULTS\".format(optimisationMethod.upper()))\n",
        "        print(dash)\n",
        "        print(\"Initial Weights were:    {:>12.1f}, {:>2.1f}, {:>2.1f}.\".format(0, 0, 0))\n",
        "        print(\"   With initial cost:    {:>+12.6f}.\".format(inititialCost))\n",
        "        print(\"        # Iterations:    {:>+12,.0f}.    \".format(numIterations))\n",
        "        print(\"       Final weights:    theta0:{:>+0.2f}, theta1:{:>+3.2f}, theta02:{:>+3.3f}.\".format(\n",
        "            theta[0], theta[1], theta[2]))#print(\"       Final weights:    \\u03F4\\u2080:{:>+0.2f}, \\u03F4\\u2081:{:>+3.2f}, \\u03F4\\u2082:{:>+3.3f}.\".format(theta[0], theta[1], theta[2]))\n",
        "        print(\"          Final cost:    {:>+12.6f}.\".format(finalCost))\n",
        "        print(dash)\n"
      ],
      "execution_count": null,
      "outputs": []
    },
    {
      "cell_type": "code",
      "metadata": {
        "colab": {
          "base_uri": "https://localhost:8080/"
        },
        "id": "LBKdJI0CNLNT",
        "outputId": "5a2af613-d9fd-4570-f02e-2b9b0efcbf5a"
      },
      "source": [
        "a = [1,0,1,0,0,3,2]\n",
        "b = a[a != 0]\n",
        "print(b)"
      ],
      "execution_count": null,
      "outputs": [
        {
          "output_type": "stream",
          "name": "stdout",
          "text": [
            "0\n"
          ]
        }
      ]
    },
    {
      "cell_type": "code",
      "metadata": {
        "id": "1ZqJbEnDmnIr"
      },
      "source": [
        ""
      ],
      "execution_count": null,
      "outputs": []
    },
    {
      "cell_type": "code",
      "metadata": {
        "id": "CMwLPu4JSQwQ",
        "colab": {
          "base_uri": "https://localhost:8080/"
        },
        "outputId": "37c8b0e4-f4ff-4092-fdd3-4198a888e335"
      },
      "source": [
        "tf_train.shape"
      ],
      "execution_count": null,
      "outputs": [
        {
          "output_type": "execute_result",
          "data": {
            "text/plain": [
              "(6507, 6746)"
            ]
          },
          "metadata": {},
          "execution_count": 17
        }
      ]
    },
    {
      "cell_type": "code",
      "metadata": {
        "id": "SZpEcvAmSTAN",
        "colab": {
          "base_uri": "https://localhost:8080/"
        },
        "outputId": "1a430969-dc81-4d70-fcb5-50b3ff7d63af"
      },
      "source": [
        "tf_test.shape"
      ],
      "execution_count": null,
      "outputs": [
        {
          "output_type": "execute_result",
          "data": {
            "text/plain": [
              "(1627, 6746)"
            ]
          },
          "metadata": {},
          "execution_count": 18
        }
      ]
    },
    {
      "cell_type": "code",
      "metadata": {
        "id": "n0sHWET9SQ1b"
      },
      "source": [
        ""
      ],
      "execution_count": null,
      "outputs": []
    },
    {
      "cell_type": "code",
      "metadata": {
        "id": "Xg48ld4vmnKv"
      },
      "source": [
        "tf_train = tf_train"
      ],
      "execution_count": null,
      "outputs": []
    },
    {
      "cell_type": "code",
      "metadata": {
        "id": "vRiyLOKHmnl5",
        "colab": {
          "base_uri": "https://localhost:8080/"
        },
        "outputId": "de1804bd-10ff-478b-cd5b-044d25d20fb1"
      },
      "source": [
        "corr_matrix = np.corrcoef(tf_train)\n",
        "sumas = sum(corr_matrix >= 0.5)\n",
        "indices = sumas > 1\n",
        "tf_train = tf_train[~indices]\n",
        "\n",
        "y_train = y_train[~indices]\n",
        "\n",
        "tf_train.shape, y_train.shape"
      ],
      "execution_count": null,
      "outputs": [
        {
          "output_type": "stream",
          "name": "stderr",
          "text": [
            "/usr/local/lib/python3.7/dist-packages/numpy/lib/function_base.py:2559: RuntimeWarning: invalid value encountered in true_divide\n",
            "  c /= stddev[:, None]\n",
            "/usr/local/lib/python3.7/dist-packages/numpy/lib/function_base.py:2560: RuntimeWarning: invalid value encountered in true_divide\n",
            "  c /= stddev[None, :]\n"
          ]
        },
        {
          "output_type": "execute_result",
          "data": {
            "text/plain": [
              "((2792, 6746), (2792,))"
            ]
          },
          "metadata": {},
          "execution_count": 113
        }
      ]
    },
    {
      "cell_type": "code",
      "metadata": {
        "id": "TWU0Uaa9I8G2"
      },
      "source": [
        "tf_train = tf_train"
      ],
      "execution_count": null,
      "outputs": []
    },
    {
      "cell_type": "code",
      "metadata": {
        "id": "u-ESm6ZwI8JN",
        "colab": {
          "base_uri": "https://localhost:8080/"
        },
        "outputId": "bab660b7-c748-4fa0-dd0f-3f90960086b0"
      },
      "source": [
        "tf_train.shape"
      ],
      "execution_count": null,
      "outputs": [
        {
          "output_type": "execute_result",
          "data": {
            "text/plain": [
              "(2792, 6746)"
            ]
          },
          "metadata": {},
          "execution_count": 115
        }
      ]
    },
    {
      "cell_type": "code",
      "metadata": {
        "id": "Dhmmn1WrSljK",
        "colab": {
          "base_uri": "https://localhost:8080/"
        },
        "outputId": "574d1392-e711-4e27-86d6-19c87124ac79"
      },
      "source": [
        "tf_test.shape"
      ],
      "execution_count": null,
      "outputs": [
        {
          "output_type": "execute_result",
          "data": {
            "text/plain": [
              "(1627, 6746)"
            ]
          },
          "metadata": {},
          "execution_count": 116
        }
      ]
    },
    {
      "cell_type": "code",
      "metadata": {
        "id": "FZpNrztFmn1u"
      },
      "source": [
        ""
      ],
      "execution_count": null,
      "outputs": []
    },
    {
      "cell_type": "code",
      "metadata": {
        "id": "TNw26hiOWVP4",
        "colab": {
          "base_uri": "https://localhost:8080/",
          "height": 174
        },
        "outputId": "3b5c1a6e-3f66-4985-e09d-9e43956608b8"
      },
      "source": [
        "'''def run():\n",
        "\n",
        "    #\n",
        "    ## Load Data:\n",
        "    #iris = datasets.load_iris()\n",
        "    #X = iris.data[:, :2]\n",
        "    #y = (iris.target != 0) * 1\n",
        "    #\n",
        "\n",
        "    X = tf_train\n",
        "    y = y_train\n",
        "\n",
        "\n",
        "    # Run the model:\n",
        "    objLogisticRegression = LogisticRegression(alpha=0.1, maxIterations=10,fitIntercept=True, verbose=True,optimisation=\"newton\");   # Initialise the regression.\n",
        "    objLogisticRegression.fit(X, y);                                 # Fit the regression.\n",
        "\n",
        "    # Show the output:\n",
        "    LogisticRegression.formattedOutput(objLogisticRegression=objLogisticRegression);        # Show the formatted results.\n",
        "\n",
        "\n",
        "    #\n",
        "    # Run the model:\n",
        "    #objLogisticRegression = LogisticRegression(alpha=0.1, maxIterations=100000,fitIntercept=True, verbose=True,optimisation=\"gradientAscent\");   # Initialise the regression.\n",
        "    #objLogisticRegression.fit(X, y);                                 # Fit the regression.\n",
        "\n",
        "    # Show the output:\n",
        "    #LogisticRegression.formattedOutput(objLogisticRegression=objLogisticRegression);        # Show the formatted results.\n",
        "    #\n",
        "\n",
        "    # sklearn's Logistic Regression.\n",
        "    model = sklearnLogisticRegression(C=1e8).fit(X, y)\n",
        "    dash = '=' * 80;  # '=' * 80;\n",
        "    print(dash)\n",
        "    print(\"LOGISTIC REGRESSION USING SKLEARN TERMINATION RESULTS\")\n",
        "    print(\"Final weights:    theta0:{:>+0.2f}, theta1:{:>+0.2f}, theta2:{:>+0.2f}.\".format(model.intercept_[0], model.coef_[0][0], model.coef_[0][1]))\n",
        "    print(dash)\n",
        "\n",
        "\n",
        "\n",
        "    print(\"Finished\")\n",
        "\n",
        "\n",
        "\n",
        "\n",
        "\n",
        "if __name__ == '__main__':\n",
        "    run()'''"
      ],
      "execution_count": null,
      "outputs": [
        {
          "output_type": "execute_result",
          "data": {
            "application/vnd.google.colaboratory.intrinsic+json": {
              "type": "string"
            },
            "text/plain": [
              "'def run():\\n\\n    #\\n    ## Load Data:\\n    #iris = datasets.load_iris()\\n    #X = iris.data[:, :2]\\n    #y = (iris.target != 0) * 1\\n    #\\n\\n    X = tf_train\\n    y = y_train\\n\\n\\n    # Run the model:\\n    objLogisticRegression = LogisticRegression(alpha=0.1, maxIterations=10,fitIntercept=True, verbose=True,optimisation=\"newton\");   # Initialise the regression.\\n    objLogisticRegression.fit(X, y);                                 # Fit the regression.\\n\\n    # Show the output:\\n    LogisticRegression.formattedOutput(objLogisticRegression=objLogisticRegression);        # Show the formatted results.\\n\\n\\n    #\\n    # Run the model:\\n    #objLogisticRegression = LogisticRegression(alpha=0.1, maxIterations=100000,fitIntercept=True, verbose=True,optimisation=\"gradientAscent\");   # Initialise the regression.\\n    #objLogisticRegression.fit(X, y);                                 # Fit the regression.\\n\\n    # Show the output:\\n    #LogisticRegression.formattedOutput(objLogisticRegression=objLogisticRegression);        # Show the formatted results.\\n    #\\n\\n    # sklearn\\'s Logistic Regression.\\n    model = sklearnLogisticRegression(C=1e8).fit(X, y)\\n    dash = \\'=\\' * 80;  # \\'=\\' * 80;\\n    print(dash)\\n    print(\"LOGISTIC REGRESSION USING SKLEARN TERMINATION RESULTS\")\\n    print(\"Final weights:    theta0:{:>+0.2f}, theta1:{:>+0.2f}, theta2:{:>+0.2f}.\".format(model.intercept_[0], model.coef_[0][0], model.coef_[0][1]))\\n    print(dash)\\n\\n\\n\\n    print(\"Finished\")\\n\\n\\n\\n\\n\\nif __name__ == \\'__main__\\':\\n    run()'"
            ]
          },
          "metadata": {},
          "execution_count": 117
        }
      ]
    },
    {
      "cell_type": "code",
      "metadata": {
        "id": "EAcE0Y2al_vd"
      },
      "source": [
        ""
      ],
      "execution_count": null,
      "outputs": []
    },
    {
      "cell_type": "code",
      "metadata": {
        "id": "X6S9hQAXlqMu",
        "colab": {
          "base_uri": "https://localhost:8080/",
          "height": 1000
        },
        "outputId": "921f91eb-43bf-4817-ffeb-d9dcb5fc5040"
      },
      "source": [
        "import matplotlib.pyplot as plt\n",
        "\n",
        "X = tf_train\n",
        "y = y_train\n",
        "\n",
        "print(X)\n",
        "print(y)\n",
        "# cc = np.cov(X)\n",
        "\n",
        "# print('Matriz de covarianzas inicial\\n', cc)\n",
        "\n",
        "# Run the model:\n",
        "objLogisticRegression = LogisticRegression(alpha=0.1, maxIterations=10,fitIntercept=False, verbose=True,optimisation=\"newton\");   # Initialise the regression.\n",
        "objLogisticRegression.fit(X, y);                                 # Fit the regression.\n",
        "\n",
        "thet = objLogisticRegression.theta\n",
        "\n",
        "toPx = np.dot(X, thet)\n",
        "\n",
        "zf = 1 / (1 + np.exp(-toPx))\n",
        "\n",
        "# print(toPx)\n",
        "# print(zf)\n",
        "# print(toPx.shape)\n",
        "# print(zf.shape)\n",
        "conc = [toPx.T, zf.T]\n",
        "# print(conc)\n",
        "conc = np.sort(conc)\n",
        "ss1 = conc[0,:]\n",
        "ss2 = conc[1,:]\n",
        "\n",
        "plt.plot(toPx,y, 'o')\n",
        "plt.plot(ss1, ss2)\n",
        "plt.legend(['Valor esperado','Curva logística'])\n",
        "plt.title(\"Regresión logística Newton-Raphson\")\n",
        "\n",
        "# Show the output:\n",
        "LogisticRegression.formattedOutput(objLogisticRegression=objLogisticRegression);        # Show the formatted results."
      ],
      "execution_count": null,
      "outputs": [
        {
          "output_type": "stream",
          "name": "stdout",
          "text": [
            "[[0 0 0 ... 0 0 0]\n",
            " [0 0 0 ... 0 0 0]\n",
            " [0 0 0 ... 0 0 0]\n",
            " ...\n",
            " [0 0 0 ... 0 0 0]\n",
            " [0 0 0 ... 0 0 0]\n",
            " [0 0 0 ... 0 0 0]]\n",
            "1505    0\n",
            "7368    1\n",
            "4536    0\n",
            "7679    1\n",
            "6019    0\n",
            "       ..\n",
            "3954    1\n",
            "6999    1\n",
            "3738    1\n",
            "6781    0\n",
            "4858    0\n",
            "Name: pol_cat, Length: 2792, dtype: int64\n",
            "6746\n",
            "(146.59989932311052+0j)\n",
            "(6746, 6746)\n",
            "[[ 6.75287471e-03  1.30056098e-07  0.00000000e+00 ... -1.51711827e-09\n",
            "  -7.99850090e-09 -2.40115447e-09]\n",
            " [ 1.30056098e-07  6.64800247e-03  0.00000000e+00 ...  2.10790245e-08\n",
            "   4.17754504e-08  4.62965815e-08]\n",
            " [ 0.00000000e+00  0.00000000e+00  6.82128709e-03 ...  0.00000000e+00\n",
            "   0.00000000e+00  0.00000000e+00]\n",
            " ...\n",
            " [-1.51711827e-09  2.10790245e-08  0.00000000e+00 ...  6.80997230e-03\n",
            "  -2.38078773e-09 -6.44937265e-10]\n",
            " [-7.99850090e-09  4.17754504e-08  0.00000000e+00 ... -2.38078773e-09\n",
            "   6.76411864e-03 -2.16727379e-09]\n",
            " [-2.40115447e-09  4.62965815e-08  0.00000000e+00 ... -6.44937265e-10\n",
            "  -2.16727379e-09  6.80985643e-03]]\n",
            "[-0.01356153  0.03097455  0.         ... -0.00307664 -0.00328767\n",
            "  0.00320243]\n",
            "Iteration #:        1.  Cost: +0.6598\n",
            "6746\n",
            "(141.12633022467952+0j)\n",
            "(6746, 6746)\n",
            "[[ 7.01214618e-03  1.42156805e-07  0.00000000e+00 ... -1.71025888e-09\n",
            "  -8.96415995e-09 -2.71010854e-09]\n",
            " [ 1.42156805e-07  6.90036281e-03  0.00000000e+00 ...  2.30772221e-08\n",
            "   4.54095407e-08  5.08927143e-08]\n",
            " [ 0.00000000e+00  0.00000000e+00  7.08584995e-03 ...  0.00000000e+00\n",
            "   0.00000000e+00  0.00000000e+00]\n",
            " ...\n",
            " [-1.71025888e-09  2.30772221e-08  0.00000000e+00 ...  7.07376601e-03\n",
            "  -2.65899081e-09 -7.24314494e-10]\n",
            " [-8.96415995e-09  4.54095407e-08  0.00000000e+00 ... -2.65899081e-09\n",
            "   7.02442252e-03 -2.42739293e-09]\n",
            " [-2.71010854e-09  5.08927143e-08  0.00000000e+00 ... -7.24314494e-10\n",
            "  -2.42739293e-09  7.07356832e-03]]\n",
            "[-0.0274786   0.06034213  0.         ... -0.005945   -0.00654547\n",
            "  0.00635035]\n",
            "Iteration #:        2.  Cost: +0.6313\n",
            "6746\n",
            "(133.7972117474946+0j)\n",
            "(6746, 6746)\n",
            "[[ 7.39228460e-03  1.59453579e-07  0.00000000e+00 ... -1.98423707e-09\n",
            "  -1.04208118e-08 -3.19077513e-09]\n",
            " [ 1.59453579e-07  7.27117872e-03  0.00000000e+00 ...  2.60150330e-08\n",
            "   5.05476366e-08  5.78538705e-08]\n",
            " [ 0.00000000e+00  0.00000000e+00  7.47399730e-03 ...  0.00000000e+00\n",
            "   0.00000000e+00  0.00000000e+00]\n",
            " ...\n",
            " [-1.98423707e-09  2.60150330e-08  0.00000000e+00 ...  7.46091961e-03\n",
            "  -3.03096257e-09 -8.32903814e-10]\n",
            " [-1.04208118e-08  5.05476366e-08  0.00000000e+00 ... -3.03096257e-09\n",
            "   7.40633439e-03 -2.82628181e-09]\n",
            " [-3.19077513e-09  5.78538705e-08  0.00000000e+00 ... -8.32903814e-10\n",
            "  -2.82628181e-09  7.46046264e-03]]\n",
            "[-0.04191517  0.08869127  0.         ... -0.00865154 -0.00979333\n",
            "  0.00950987]\n",
            "Iteration #:        3.  Cost: +0.6060\n",
            "6746\n",
            "(127.65174722828912+0j)\n",
            "(6746, 6746)\n",
            "[[ 7.74448535e-03  1.74261918e-07  0.00000000e+00 ... -2.20584971e-09\n",
            "  -1.17754046e-08 -3.65810564e-09]\n",
            " [ 1.74261918e-07  7.61593771e-03  0.00000000e+00 ...  2.86359845e-08\n",
            "   5.49443252e-08  6.44409862e-08]\n",
            " [ 0.00000000e+00  0.00000000e+00  7.83381365e-03 ...  0.00000000e+00\n",
            "   0.00000000e+00  0.00000000e+00]\n",
            " ...\n",
            " [-2.20584971e-09  2.86359845e-08  0.00000000e+00 ...  7.82003369e-03\n",
            "  -3.30613689e-09 -9.15232669e-10]\n",
            " [-1.17754046e-08  5.49443252e-08  0.00000000e+00 ... -3.30613689e-09\n",
            "   7.76047888e-03 -3.20595283e-09]\n",
            " [-3.65810564e-09  6.44409862e-08  0.00000000e+00 ... -9.15232669e-10\n",
            "  -3.20595283e-09  7.81912573e-03]]\n",
            "[-0.05674796  0.11594202  0.         ... -0.01118858 -0.01298615\n",
            "  0.01267603]\n",
            "Iteration #:        4.  Cost: +0.5834\n",
            "6746\n",
            "(122.51105726061837+0j)\n",
            "(6746, 6746)\n",
            "[[ 8.06615696e-03  1.86194995e-07  0.00000000e+00 ... -2.36527313e-09\n",
            "  -1.29870805e-08 -4.09680847e-09]\n",
            " [ 1.86194995e-07  7.93196434e-03  0.00000000e+00 ...  3.08560883e-08\n",
            "   5.86230189e-08  7.04881507e-08]\n",
            " [ 0.00000000e+00  0.00000000e+00  8.16252853e-03 ...  0.00000000e+00\n",
            "   0.00000000e+00  0.00000000e+00]\n",
            " ...\n",
            " [-2.36527313e-09  3.08560883e-08  0.00000000e+00 ...  8.14833304e-03\n",
            "  -3.48117449e-09 -9.68942125e-10]\n",
            " [-1.29870805e-08  5.86230189e-08  0.00000000e+00 ... -3.48117449e-09\n",
            "   8.08416150e-03 -3.55476450e-09]\n",
            " [-4.09680847e-09  7.04881507e-08  0.00000000e+00 ... -9.68942125e-10\n",
            "  -3.55476450e-09  8.14680002e-03]]\n",
            "[-0.07186218  0.142031    0.         ... -0.0135575  -0.01608548\n",
            "  0.0158429 ]\n",
            "Iteration #:        5.  Cost: +0.5629\n",
            "6746\n",
            "(118.06929654415767+0j)\n",
            "(6746, 6746)\n",
            "[[ 8.36663672e-03  1.95728138e-07  0.00000000e+00 ... -2.47351040e-09\n",
            "  -1.40808614e-08 -4.51254703e-09]\n",
            " [ 1.95728138e-07  8.22811413e-03  0.00000000e+00 ...  3.27467787e-08\n",
            "   6.18464688e-08  7.61122216e-08]\n",
            " [ 0.00000000e+00  0.00000000e+00  8.46960242e-03 ...  0.00000000e+00\n",
            "   0.00000000e+00  0.00000000e+00]\n",
            " ...\n",
            " [-2.47351040e-09  3.27467787e-08  0.00000000e+00 ...  8.45520838e-03\n",
            "  -3.57898837e-09 -1.00024717e-09]\n",
            " [-1.40808614e-08  6.18464688e-08  0.00000000e+00 ... -3.57898837e-09\n",
            "   8.38667641e-03 -3.87985942e-09]\n",
            " [-4.51254703e-09  7.61122216e-08  0.00000000e+00 ... -1.00024717e-09\n",
            "  -3.87985942e-09  8.45291200e-03]]\n",
            "[-0.08717249  0.16694716  0.         ... -0.01576804 -0.01906359\n",
            "  0.01900815]\n",
            "Iteration #:        6.  Cost: +0.5443\n",
            "6746\n",
            "(114.12577890376065+0j)\n",
            "(6746, 6746)\n",
            "[[ 8.65304306e-03  2.03321637e-07  0.00000000e+00 ... -2.54373158e-09\n",
            "  -1.50810914e-08 -4.91145949e-09]\n",
            " [ 2.03321637e-07  8.51111293e-03  0.00000000e+00 ...  3.43911130e-08\n",
            "   6.48116677e-08  8.14205876e-08]\n",
            " [ 0.00000000e+00  0.00000000e+00  8.76226221e-03 ...  0.00000000e+00\n",
            "   0.00000000e+00  0.00000000e+00]\n",
            " ...\n",
            " [-2.54373158e-09  3.43911130e-08  0.00000000e+00 ...  8.74781996e-03\n",
            "  -3.62214023e-09 -1.01576519e-09]\n",
            " [-1.50810914e-08  6.48116677e-08  0.00000000e+00 ... -3.62214023e-09\n",
            "   8.67511129e-03 -4.18896445e-09]\n",
            " [-4.91145949e-09  8.14205876e-08  0.00000000e+00 ... -1.01576519e-09\n",
            "  -4.18896445e-09  8.74466068e-03]]\n",
            "[-0.10261594  0.19071329  0.         ... -0.01783384 -0.0219011\n",
            "  0.02217167]\n",
            "Iteration #:        7.  Cost: +0.5272\n",
            "6746\n",
            "(110.55439063773085+0j)\n",
            "(6746, 6746)\n",
            "[[ 8.93011484e-03  2.09337118e-07  0.00000000e+00 ... -2.58732489e-09\n",
            "  -1.60056953e-08 -5.29806463e-09]\n",
            " [ 2.09337118e-07  8.78541506e-03  0.00000000e+00 ...  3.58618440e-08\n",
            "   6.76295490e-08  8.64905780e-08]\n",
            " [ 0.00000000e+00  0.00000000e+00  9.04532144e-03 ...  0.00000000e+00\n",
            "   0.00000000e+00  0.00000000e+00]\n",
            " ...\n",
            " [-2.58732489e-09  3.58618440e-08  0.00000000e+00 ...  9.03092816e-03\n",
            "  -3.62870269e-09 -1.02090500e-09]\n",
            " [-1.60056953e-08  6.76295490e-08  0.00000000e+00 ... -3.62870269e-09\n",
            "   8.95418059e-03 -4.48820243e-09]\n",
            " [-5.29806463e-09  8.64905780e-08  0.00000000e+00 ... -1.02090500e-09\n",
            "  -4.48820243e-09  9.02684028e-03]]\n",
            "[-0.11814527  0.21337137  0.         ... -0.01976963 -0.02458499\n",
            "  0.02533441]\n",
            "Iteration #:        8.  Cost: +0.5113\n",
            "6746\n",
            "(107.27376273191759+0j)\n",
            "(6746, 6746)\n",
            "[[ 9.20096670e-03  2.14049810e-07  0.00000000e+00 ... -2.61309276e-09\n",
            "  -1.68673798e-08 -5.67533156e-09]\n",
            " [ 2.14049810e-07  9.05393230e-03  0.00000000e+00 ...  3.72172055e-08\n",
            "   7.03498967e-08  9.13759712e-08]\n",
            " [ 0.00000000e+00  0.00000000e+00  9.32194392e-03 ...  0.00000000e+00\n",
            "   0.00000000e+00  0.00000000e+00]\n",
            " ...\n",
            " [-2.61309276e-09  3.72172055e-08  0.00000000e+00 ...  9.30765758e-03\n",
            "  -3.61208359e-09 -1.01966889e-09]\n",
            " [-1.68673798e-08  7.03498967e-08  0.00000000e+00 ... -3.61208359e-09\n",
            "   9.22697859e-03 -4.78207939e-09]\n",
            " [-5.67533156e-09  9.13759712e-08  0.00000000e+00 ... -1.01966889e-09\n",
            "  -4.78207939e-09  9.30260158e-03]]\n",
            "[-0.13372426  0.23497354  0.         ... -0.02158969 -0.02710705\n",
            "  0.02849778]\n",
            "Iteration #:        9.  Cost: +0.4966\n",
            "6746\n",
            "(104.23004273470539+0j)\n",
            "(6746, 6746)\n",
            "[[ 9.46760141e-03  2.17666478e-07  0.00000000e+00 ... -2.62737892e-09\n",
            "  -1.76749590e-08 -6.04490274e-09]\n",
            " [ 2.17666478e-07  9.31852385e-03  0.00000000e+00 ...  3.85009048e-08\n",
            "   7.29866741e-08  9.61125838e-08]\n",
            " [ 0.00000000e+00  0.00000000e+00  9.59416281e-03 ...  0.00000000e+00\n",
            "   0.00000000e+00  0.00000000e+00]\n",
            " ...\n",
            " [-2.62737892e-09  3.85009048e-08  0.00000000e+00 ...  9.58001408e-03\n",
            "  -3.58172232e-09 -1.01483573e-09]\n",
            " [-1.76749590e-08  7.29866741e-08  0.00000000e+00 ... -3.58172232e-09\n",
            "   9.49548989e-03 -5.07372997e-09]\n",
            " [-6.04490274e-09  9.61125838e-08  0.00000000e+00 ... -1.01483573e-09\n",
            "  -5.07372997e-09  9.57396934e-03]]\n",
            "[-0.14932451  0.25557643  0.         ... -0.02330721 -0.02946283\n",
            "  0.03166326]\n",
            "Iteration #:       10.  Cost: +0.4829\n",
            "6746\n",
            "(101.38671810966349+0j)\n",
            "(6746, 6746)\n",
            "[[ 9.73124914e-03  2.20341541e-07  0.00000000e+00 ... -2.63451697e-09\n",
            "  -1.84344172e-08 -6.40734572e-09]\n",
            " [ 2.20341541e-07  9.58031880e-03  0.00000000e+00 ...  3.97439901e-08\n",
            "   7.55362313e-08  1.00722461e-07]\n",
            " [ 0.00000000e+00  0.00000000e+00  9.86322487e-03 ...  0.00000000e+00\n",
            "   0.00000000e+00  0.00000000e+00]\n",
            " ...\n",
            " [-2.63451697e-09  3.97439901e-08  0.00000000e+00 ...  9.84922629e-03\n",
            "  -3.54398650e-09 -1.00824008e-09]\n",
            " [-1.84344172e-08  7.55362313e-08  0.00000000e+00 ... -3.54398650e-09\n",
            "   9.76092776e-03 -5.36519635e-09]\n",
            " [-6.40734572e-09  1.00722461e-07  0.00000000e+00 ... -1.00824008e-09\n",
            "  -5.36519635e-09  9.84218522e-03]]\n",
            "[-0.16492327  0.27523768  0.         ... -0.02493394 -0.03165082\n",
            "  0.03483222]\n",
            "Iteration #:       11.  Cost: +0.4701.\n",
            "Finished because maximum iterations reached. Using newton optimisation method.\n",
            "================================================================================\n",
            "LOGISTIC REGRESSION USING NEWTON TERRMINATION RESULTS\n",
            "================================================================================\n",
            "Initial Weights were:             0.0, 0.0, 0.0.\n",
            "   With initial cost:       +0.693147.\n",
            "        # Iterations:             +11.    \n",
            "       Final weights:    theta0:-0.16, theta1:+0.28, theta02:+0.000.\n",
            "          Final cost:       +0.470061.\n",
            "================================================================================\n"
          ]
        },
        {
          "output_type": "display_data",
          "data": {
            "image/png": "[encoded data removed]",
            "text/plain": [
              "<Figure size 432x288 with 1 Axes>"
            ]
          },
          "metadata": {
            "needs_background": "light"
          }
        }
      ]
    },
    {
      "cell_type": "code",
      "metadata": {
        "id": "f32eSgJdPQqo"
      },
      "source": [
        "#corr_matrix = np.corrcoef(tf_test)\n",
        "#sumas = sum(corr_matrix >= 0.5)\n",
        "#indices = sumas > 1\n",
        "#tf_test = tf_test[~indices]\n",
        "\n",
        "#y_test = y_ttest[~indices]\n",
        "\n",
        "#tf_test.shape, y_test.shape"
      ],
      "execution_count": null,
      "outputs": []
    },
    {
      "cell_type": "code",
      "metadata": {
        "id": "rFsP_V07R03p",
        "colab": {
          "base_uri": "https://localhost:8080/"
        },
        "outputId": "a3d815aa-71d4-477e-c9ef-b8828a60babe"
      },
      "source": [
        "tf_test.shape"
      ],
      "execution_count": null,
      "outputs": [
        {
          "output_type": "execute_result",
          "data": {
            "text/plain": [
              "(1627, 6746)"
            ]
          },
          "metadata": {},
          "execution_count": 120
        }
      ]
    },
    {
      "cell_type": "code",
      "metadata": {
        "id": "xfajBx8bSC0x",
        "colab": {
          "base_uri": "https://localhost:8080/"
        },
        "outputId": "08626e38-e4c4-474c-86c8-19a79f6cfac7"
      },
      "source": [
        "tf_train.shape"
      ],
      "execution_count": null,
      "outputs": [
        {
          "output_type": "execute_result",
          "data": {
            "text/plain": [
              "(2792, 6746)"
            ]
          },
          "metadata": {},
          "execution_count": 121
        }
      ]
    },
    {
      "cell_type": "code",
      "metadata": {
        "id": "8c7CKz7miWbX"
      },
      "source": [
        "from mlxtend.plotting import plot_confusion_matrix\n",
        "import matplotlib.pyplot as plt\n",
        "import numpy as np\n",
        "\n",
        "from sklearn import metrics"
      ],
      "execution_count": null,
      "outputs": []
    },
    {
      "cell_type": "code",
      "metadata": {
        "id": "CghAhytpjnIS",
        "colab": {
          "base_uri": "https://localhost:8080/"
        },
        "outputId": "05aaed02-04d3-478d-fea0-c4d83b5419cf"
      },
      "source": [
        "correctos = 0\n",
        "\n",
        "y_train = list(y_train)\n",
        "\n",
        "predicciones = []\n",
        "for i in range(len(tf_train)):\n",
        "  prediccion = objLogisticRegression.predict(tf_train[i])\n",
        "  #print(prediccion)\n",
        "  if (prediccion == y_train[i]):\n",
        "    correctos += 1\n",
        "\n",
        "  predicciones.append(prediccion)\n",
        "print(f'Accuraccy: {correctos/len(tf_train)}')"
      ],
      "execution_count": null,
      "outputs": [
        {
          "output_type": "stream",
          "name": "stdout",
          "text": [
            "Accuraccy: 0.9086676217765043\n"
          ]
        }
      ]
    },
    {
      "cell_type": "code",
      "metadata": {
        "colab": {
          "base_uri": "https://localhost:8080/",
          "height": 313
        },
        "id": "TOMj4Njaicdd",
        "outputId": "1817eda6-8f46-4e92-f484-930c0eebb787"
      },
      "source": [
        "cf = metrics.confusion_matrix(y_train,predicciones,labels = [1,0])\n",
        "print(cf)\n",
        "## this command is only for google collab \n",
        "## in the below figure \" 1 is actually showing -1 and 0 is actually showing 1\"\n",
        "fig, ax = plot_confusion_matrix(conf_mat = cf)\n",
        "plt.xlabel('Predicciones')\n",
        "plt.ylabel('Valores esperados')\n",
        "                                \n",
        "## It canbe used in any platform\n",
        "# fig, ax = plot_confusion_matrix(conf_mat = cf, class_names = [1,-1])\n",
        "plt.show()"
      ],
      "execution_count": null,
      "outputs": [
        {
          "output_type": "stream",
          "name": "stdout",
          "text": [
            "[[ 991  149]\n",
            " [ 106 1546]]\n"
          ]
        },
        {
          "output_type": "display_data",
          "data": {
            "image/png": "[encoded data removed]",
            "text/plain": [
              "<Figure size 432x288 with 1 Axes>"
            ]
          },
          "metadata": {
            "needs_background": "light"
          }
        }
      ]
    },
    {
      "cell_type": "code",
      "metadata": {
        "id": "JGv2OtDKmL-Y"
      },
      "source": [
        "print(metrics.classification_report(y_train,predicciones)"
      ],
      "execution_count": null,
      "outputs": []
    },
    {
      "cell_type": "code",
      "metadata": {
        "id": "tK3eyI-5NlRw",
        "colab": {
          "base_uri": "https://localhost:8080/",
          "height": 298
        },
        "outputId": "b63fc592-eb2b-4afc-9b22-97422079841c"
      },
      "source": [
        "correctos = 0\n",
        "\n",
        "y_test = list(y_test)\n",
        "\n",
        "predicciones_test = []\n",
        "for i in range(len(tf_test)):\n",
        "  prediccion = objLogisticRegression.predict(tf_test[i])\n",
        "  #print(prediccion)\n",
        "  if (prediccion == y_test[i]):\n",
        "    correctos += 1\n",
        "\n",
        "  predicciones_test.append(prediccion)\n",
        "\n",
        "thet = objLogisticRegression.theta\n",
        "\n",
        "toPx = np.dot(tf_test, thet)\n",
        "\n",
        "zf = 1 / (1 + np.exp(-toPx))\n",
        "\n",
        "conc = [toPx.T, zf.T]\n",
        "conc = np.sort(conc)\n",
        "ss1 = conc[0,:]\n",
        "ss2 = conc[1,:]\n",
        "plt.plot(toPx,y_test, 'o')\n",
        "plt.plot(ss1, ss2)\n",
        "plt.legend(['Valor esperado','Curva logística'])\n",
        "plt.title(\"Regresión logística Newton-Raphson T\")\n",
        "\n",
        "print(f'Accuraccy: {correctos/len(tf_test)}')"
      ],
      "execution_count": null,
      "outputs": [
        {
          "output_type": "stream",
          "name": "stdout",
          "text": [
            "Accuraccy: 0.8045482483097726\n"
          ]
        },
        {
          "output_type": "display_data",
          "data": {
            "image/png": "[encoded data removed]",
            "text/plain": [
              "<Figure size 432x288 with 1 Axes>"
            ]
          },
          "metadata": {
            "needs_background": "light"
          }
        }
      ]
    },
    {
      "cell_type": "code",
      "metadata": {
        "colab": {
          "base_uri": "https://localhost:8080/",
          "height": 313
        },
        "id": "wkuPwRawig_m",
        "outputId": "4b92bdca-8e42-4221-8e78-6a1628675a33"
      },
      "source": [
        "cf = metrics.confusion_matrix(y_test,predicciones_test,labels = [1,0])\n",
        "print(cf)\n",
        "## this command is only for google collab \n",
        "## in the below figure \" 1 is actually showing -1 and 0 is actually showing 1\"\n",
        "fig, ax = plot_confusion_matrix(conf_mat = cf)\n",
        "plt.xlabel('Predicciones')\n",
        "plt.ylabel('Valores esperados')\n",
        "                                \n",
        "## It canbe used in any platform\n",
        "# fig, ax = plot_confusion_matrix(conf_mat = cf, class_names = [1,-1])\n",
        "plt.show()"
      ],
      "execution_count": null,
      "outputs": [
        {
          "output_type": "stream",
          "name": "stdout",
          "text": [
            "[[505 147]\n",
            " [171 804]]\n"
          ]
        },
        {
          "output_type": "display_data",
          "data": {
            "image/png": "[encoded data removed]",
            "text/plain": [
              "<Figure size 432x288 with 1 Axes>"
            ]
          },
          "metadata": {
            "needs_background": "light"
          }
        }
      ]
    },
    {
      "cell_type": "code",
      "metadata": {
        "colab": {
          "base_uri": "https://localhost:8080/",
          "height": 298
        },
        "id": "zqvk7mhm_Q2J",
        "outputId": "2dc90e01-aefe-4895-be39-2268b9de61a2"
      },
      "source": [
        "plt.plot(objLogisticRegression.costHistory)\n",
        "plt.title('Función de costo Newton Raphson')\n",
        "plt.xlabel('Iteración')\n",
        "plt.ylabel('Costo')"
      ],
      "execution_count": null,
      "outputs": [
        {
          "output_type": "execute_result",
          "data": {
            "text/plain": [
              "Text(0.5, 1.0, 'Función de costo Newton Raphson')"
            ]
          },
          "metadata": {},
          "execution_count": 127
        },
        {
          "output_type": "display_data",
          "data": {
            "image/png": "[encoded data removed]",
            "text/plain": [
              "<Figure size 432x288 with 1 Axes>"
            ]
          },
          "metadata": {
            "needs_background": "light"
          }
        }
      ]
    },
    {
      "cell_type": "code",
      "metadata": {
        "id": "TF6F8ExRikdK"
      },
      "source": [
        ""
      ],
      "execution_count": null,
      "outputs": []
    },
    {
      "cell_type": "code",
      "metadata": {
        "colab": {
          "base_uri": "https://localhost:8080/",
          "height": 524
        },
        "id": "eVYlxrwVmbbC",
        "outputId": "e42d9aab-9c1b-478f-b3dc-5ec60a0e23da"
      },
      "source": [
        "import matplotlib.pyplot as plt\n",
        "\n",
        "# Run the model:\n",
        "X = tf_train\n",
        "y = y_train\n",
        "objLogisticRegression1 = LogisticRegression(alpha=0.1, maxIterations=3000,fitIntercept=False, verbose=True,optimisation=\"gradientAscent\");   # Initialise the regression.\n",
        "objLogisticRegression1.fit(X, y);                                 # Fit the regression.\n",
        "\n",
        "thet = objLogisticRegression1.theta\n",
        "\n",
        "toPx = np.dot(X, thet)\n",
        "\n",
        "zf = 1 / (1 + np.exp(-toPx))\n",
        "\n",
        "# print(toPx)\n",
        "# print(zf)\n",
        "# print(toPx.shape)\n",
        "# print(zf.shape)\n",
        "conc = [toPx.T, zf.T]\n",
        "# print(conc)\n",
        "conc = np.sort(conc)\n",
        "ss1 = conc[0,:]\n",
        "ss2 = conc[1,:]\n",
        "\n",
        "plt.plot(toPx,y, 'o')\n",
        "plt.plot(ss1, ss2)\n",
        "plt.legend(['Valor esperado','Curva logística'])\n",
        "plt.title(\"Regresión logística Descenso del gradiente\")\n",
        "\n",
        "# Show the output:\n",
        "LogisticRegression.formattedOutput(objLogisticRegression=objLogisticRegression1);        # Show the formatted results."
      ],
      "execution_count": null,
      "outputs": [
        {
          "output_type": "stream",
          "name": "stdout",
          "text": [
            "Iteration #:    1,000.  Cost: +0.5629\n",
            "Iteration #:    2,000.  Cost: +0.5026\n",
            "Iteration #:    3,000.  Cost: +0.4634\n",
            "Iteration #:    3,001.  Cost: +0.4634.\n",
            "Finished because maximum iterations reached. Using gradientAscent optimisation method.\n",
            "================================================================================\n",
            "LOGISTIC REGRESSION USING GRADIENTASCENT TERRMINATION RESULTS\n",
            "================================================================================\n",
            "Initial Weights were:             0.0, 0.0, 0.0.\n",
            "   With initial cost:       +0.693147.\n",
            "        # Iterations:          +3,001.    \n",
            "       Final weights:    theta0:-0.19, theta1:+0.09, theta02:-0.021.\n",
            "          Final cost:       +0.463350.\n",
            "================================================================================\n"
          ]
        },
        {
          "output_type": "display_data",
          "data": {
            "image/png": "[encoded data removed]",
            "text/plain": [
              "<Figure size 432x288 with 1 Axes>"
            ]
          },
          "metadata": {
            "needs_background": "light"
          }
        }
      ]
    },
    {
      "cell_type": "code",
      "metadata": {
        "colab": {
          "base_uri": "https://localhost:8080/"
        },
        "id": "9dYnqpzLmbdO",
        "outputId": "87316976-ee43-471d-979c-a7de47030248"
      },
      "source": [
        "correctos = 0\n",
        "\n",
        "y_train = list(y_train)\n",
        "\n",
        "predicciones = []\n",
        "for i in range(len(tf_train)):\n",
        "  prediccion = objLogisticRegression1.predict(tf_train[i])\n",
        "  #print(prediccion)\n",
        "  if (prediccion == y_train[i]):\n",
        "    correctos += 1\n",
        "\n",
        "  predicciones.append(prediccion)\n",
        "print(f'Accuraccy: {correctos/len(tf_train)}')"
      ],
      "execution_count": null,
      "outputs": [
        {
          "output_type": "stream",
          "name": "stdout",
          "text": [
            "Accuraccy: 0.9136819484240688\n"
          ]
        }
      ]
    },
    {
      "cell_type": "code",
      "metadata": {
        "colab": {
          "base_uri": "https://localhost:8080/",
          "height": 313
        },
        "id": "yN1GNHQ2imiN",
        "outputId": "d8935a7c-f5a8-473d-8ff7-71c0a71db91c"
      },
      "source": [
        "cf = metrics.confusion_matrix(y_train,predicciones,labels = [1,0])\n",
        "print(cf)\n",
        "## this command is only for google collab \n",
        "## in the below figure \" 1 is actually showing -1 and 0 is actually showing 1\"\n",
        "fig, ax = plot_confusion_matrix(conf_mat = cf)\n",
        "plt.xlabel('Predicciones')\n",
        "plt.ylabel('Valores esperados')\n",
        "                                \n",
        "## It canbe used in any platform\n",
        "# fig, ax = plot_confusion_matrix(conf_mat = cf, class_names = [1,-1])\n",
        "plt.show()"
      ],
      "execution_count": null,
      "outputs": [
        {
          "output_type": "stream",
          "name": "stdout",
          "text": [
            "[[ 997  143]\n",
            " [  98 1554]]\n"
          ]
        },
        {
          "output_type": "display_data",
          "data": {
            "image/png": "[encoded data removed]",
            "text/plain": [
              "<Figure size 432x288 with 1 Axes>"
            ]
          },
          "metadata": {
            "needs_background": "light"
          }
        }
      ]
    },
    {
      "cell_type": "code",
      "metadata": {
        "id": "QL4Oc2isMbT6"
      },
      "source": [
        ""
      ],
      "execution_count": null,
      "outputs": []
    },
    {
      "cell_type": "code",
      "metadata": {
        "colab": {
          "base_uri": "https://localhost:8080/",
          "height": 298
        },
        "id": "ghQSOeIqmbfH",
        "outputId": "4f8ddecc-0ef6-4193-fb4f-76c8a71324d4"
      },
      "source": [
        "correctos = 0\n",
        "\n",
        "y_test = list(y_test)\n",
        "\n",
        "predicciones_test = []\n",
        "for i in range(len(tf_test)):\n",
        "  prediccion = objLogisticRegression1.predict(tf_test[i])\n",
        "  #print(prediccion)\n",
        "  if (prediccion == y_test[i]):\n",
        "    correctos += 1\n",
        "\n",
        "  predicciones_test.append(prediccion)\n",
        "\n",
        "thet = objLogisticRegression1.theta\n",
        "\n",
        "toPx = np.dot(tf_test, thet)\n",
        "\n",
        "zf = 1 / (1 + np.exp(-toPx))\n",
        "\n",
        "conc = [toPx.T, zf.T]\n",
        "conc = np.sort(conc)\n",
        "ss1 = conc[0,:]\n",
        "ss2 = conc[1,:]\n",
        "plt.plot(toPx,y_test, 'o')\n",
        "plt.plot(ss1, ss2)\n",
        "plt.legend(['Valor esperado','Curva logística'])\n",
        "plt.title(\"Regresión logística Descenso del gradiente\")\n",
        "\n",
        "print(f'Accuraccy: {correctos/len(tf_test)}')"
      ],
      "execution_count": null,
      "outputs": [
        {
          "output_type": "stream",
          "name": "stdout",
          "text": [
            "Accuraccy: 0.8070067609096496\n"
          ]
        },
        {
          "output_type": "display_data",
          "data": {
            "image/png": "[encoded data removed]",
            "text/plain": [
              "<Figure size 432x288 with 1 Axes>"
            ]
          },
          "metadata": {
            "needs_background": "light"
          }
        }
      ]
    },
    {
      "cell_type": "code",
      "metadata": {
        "colab": {
          "base_uri": "https://localhost:8080/",
          "height": 313
        },
        "id": "aL_4u0k8isK8",
        "outputId": "7ad35735-2979-494a-81ed-0b6b60b2cdba"
      },
      "source": [
        "cf = metrics.confusion_matrix(y_test,predicciones_test,labels = [1,0])\n",
        "print(cf)\n",
        "## this command is only for google collab \n",
        "## in the below figure \" 1 is actually showing -1 and 0 is actually showing 1\"\n",
        "fig, ax = plot_confusion_matrix(conf_mat = cf)\n",
        "plt.xlabel('Predicciones')\n",
        "plt.ylabel('Valores esperados')\n",
        "                                \n",
        "## It canbe used in any platform\n",
        "# fig, ax = plot_confusion_matrix(conf_mat = cf, class_names = [1,-1])\n",
        "plt.show()"
      ],
      "execution_count": null,
      "outputs": [
        {
          "output_type": "stream",
          "name": "stdout",
          "text": [
            "[[507 145]\n",
            " [169 806]]\n"
          ]
        },
        {
          "output_type": "display_data",
          "data": {
            "image/png": "[encoded data removed]",
            "text/plain": [
              "<Figure size 432x288 with 1 Axes>"
            ]
          },
          "metadata": {
            "needs_background": "light"
          }
        }
      ]
    },
    {
      "cell_type": "code",
      "metadata": {
        "id": "KySCOjfdeLQY",
        "colab": {
          "base_uri": "https://localhost:8080/",
          "height": 312
        },
        "outputId": "3ae554ff-917a-418f-f17f-e14dc058b4f0"
      },
      "source": [
        "plt.plot(objLogisticRegression1.costHistory)\n",
        "plt.title('Función de costo Descenso del gradiente')\n",
        "plt.xlabel('Iteración')\n",
        "plt.ylabel('Costo')"
      ],
      "execution_count": null,
      "outputs": [
        {
          "output_type": "execute_result",
          "data": {
            "text/plain": [
              "Text(0, 0.5, 'Costo')"
            ]
          },
          "metadata": {},
          "execution_count": 141
        },
        {
          "output_type": "display_data",
          "data": {
            "image/png": "[encoded data removed]",
            "text/plain": [
              "<Figure size 432x288 with 1 Axes>"
            ]
          },
          "metadata": {
            "needs_background": "light"
          }
        }
      ]
    },
    {
      "cell_type": "code",
      "metadata": {
        "colab": {
          "base_uri": "https://localhost:8080/",
          "height": 489
        },
        "id": "JZ6BQuCDJPl1",
        "outputId": "0e476f73-fb95-46eb-90b4-cbe80097257c"
      },
      "source": [
        "import matplotlib.pyplot as plt\n",
        "\n",
        "# Run the model:\n",
        "X = tf_train\n",
        "y = y_train\n",
        "objLogisticRegression2 = LogisticRegression(alpha=0.1, maxIterations=200,fitIntercept=False, verbose=True,optimisation=\"gradientAscent2\");   # Initialise the regression.\n",
        "objLogisticRegression2.fit(X, y);                                 # Fit the regression.\n",
        "\n",
        "thet = objLogisticRegression2.theta\n",
        "\n",
        "toPx = np.dot(X, thet)\n",
        "\n",
        "zf = 1 / (1 + np.exp(-toPx))\n",
        "\n",
        "conc = [toPx.T, zf.T]\n",
        "conc = np.sort(conc)\n",
        "ss1 = conc[0,:]\n",
        "ss2 = conc[1,:]\n",
        "\n",
        "plt.plot(toPx,y, 'o')\n",
        "plt.plot(ss1, ss2)\n",
        "plt.legend(['Valor esperado','Curva logística'])\n",
        "plt.title(\"Regresión logística Descenso del gradiente modificado\")\n",
        "\n",
        "# Show the output:\n",
        "LogisticRegression.formattedOutput(objLogisticRegression=objLogisticRegression2);        # Show the formatted results."
      ],
      "execution_count": null,
      "outputs": [
        {
          "output_type": "stream",
          "name": "stderr",
          "text": [
            "/usr/local/lib/python3.7/dist-packages/ipykernel_launcher.py:43: RuntimeWarning: divide by zero encountered in log\n"
          ]
        },
        {
          "output_type": "stream",
          "name": "stdout",
          "text": [
            "Iteration #:      101.  Cost: +0.1342.\n",
            "Finished because maximum iterations reached. Using gradientAscent2 optimisation method.\n",
            "================================================================================\n",
            "LOGISTIC REGRESSION USING GRADIENTASCENT2 TERRMINATION RESULTS\n",
            "================================================================================\n",
            "Initial Weights were:             0.0, 0.0, 0.0.\n",
            "   With initial cost:       +0.693147.\n",
            "        # Iterations:            +101.    \n",
            "       Final weights:    theta0:-1.15, theta1:+0.90, theta02:+0.000.\n",
            "          Final cost:       +0.134162.\n",
            "================================================================================\n"
          ]
        },
        {
          "output_type": "display_data",
          "data": {
            "image/png": "[encoded data removed]",
            "text/plain": [
              "<Figure size 432x288 with 1 Axes>"
            ]
          },
          "metadata": {
            "needs_background": "light"
          }
        }
      ]
    },
    {
      "cell_type": "code",
      "metadata": {
        "id": "IDwSzmEb_HjB"
      },
      "source": [
        ""
      ],
      "execution_count": null,
      "outputs": []
    },
    {
      "cell_type": "code",
      "metadata": {
        "colab": {
          "base_uri": "https://localhost:8080/"
        },
        "id": "uFpHsjOeJd2s",
        "outputId": "ba599f5e-5a40-42f4-bdca-f84c432ef961"
      },
      "source": [
        "correctos = 0\n",
        "\n",
        "y_train = list(y_train)\n",
        "\n",
        "predicciones = []\n",
        "for i in range(len(tf_train)):\n",
        "  prediccion = objLogisticRegression2.predict(tf_train[i])\n",
        "  #print(prediccion)\n",
        "  if (prediccion == y_train[i]):\n",
        "    correctos += 1\n",
        "\n",
        "  predicciones.append(prediccion)\n",
        "\n",
        "print(f'Accuraccy: {correctos/len(tf_train)}')"
      ],
      "execution_count": null,
      "outputs": [
        {
          "output_type": "stream",
          "name": "stdout",
          "text": [
            "Accuraccy: 0.9914040114613181\n"
          ]
        }
      ]
    },
    {
      "cell_type": "code",
      "metadata": {
        "colab": {
          "base_uri": "https://localhost:8080/",
          "height": 313
        },
        "id": "EJ_9LPYnJqdU",
        "outputId": "e132d0fc-3237-4ea5-eb5d-acfc2700eb70"
      },
      "source": [
        "cf = metrics.confusion_matrix(y_train,predicciones,labels = [1,0])\n",
        "print(cf)\n",
        "## this command is only for google collab \n",
        "## in the below figure \" 1 is actually showing -1 and 0 is actually showing 1\"\n",
        "fig, ax = plot_confusion_matrix(conf_mat = cf)\n",
        "plt.xlabel('Predicciones')\n",
        "plt.ylabel('Valores esperados')\n",
        "                                \n",
        "## It canbe used in any platform\n",
        "# fig, ax = plot_confusion_matrix(conf_mat = cf, class_names = [1,-1])\n",
        "plt.show()"
      ],
      "execution_count": null,
      "outputs": [
        {
          "output_type": "stream",
          "name": "stdout",
          "text": [
            "[[1131    9]\n",
            " [  15 1637]]\n"
          ]
        },
        {
          "output_type": "display_data",
          "data": {
            "image/png": "[encoded data removed]",
            "text/plain": [
              "<Figure size 432x288 with 1 Axes>"
            ]
          },
          "metadata": {
            "needs_background": "light"
          }
        }
      ]
    },
    {
      "cell_type": "code",
      "metadata": {
        "colab": {
          "base_uri": "https://localhost:8080/",
          "height": 298
        },
        "id": "ezwW4Xqai2dU",
        "outputId": "92c7729e-dc5b-4e02-87af-d2ad1021a366"
      },
      "source": [
        "correctos = 0\n",
        "\n",
        "y_test = list(y_test)\n",
        "\n",
        "predicciones_test = []\n",
        "for i in range(len(tf_test)):\n",
        "  prediccion = objLogisticRegression2.predict(tf_test[i])\n",
        "  #print(prediccion)\n",
        "  if (prediccion == y_test[i]):\n",
        "    correctos += 1\n",
        "  \n",
        "  predicciones_test.append(prediccion)\n",
        "\n",
        "thet = objLogisticRegression2.theta\n",
        "\n",
        "toPx = np.dot(tf_test, thet)\n",
        "\n",
        "zf = 1 / (1 + np.exp(-toPx))\n",
        "\n",
        "conc = [toPx.T, zf.T]\n",
        "conc = np.sort(conc)\n",
        "ss1 = conc[0,:]\n",
        "ss2 = conc[1,:]\n",
        "plt.plot(toPx,y_test, 'o')\n",
        "plt.plot(ss1, ss2)\n",
        "plt.legend(['Valor esperado','Curva logística'])\n",
        "plt.title(\"Regresión logística Descenso del gradiente modificado\")\n",
        "\n",
        "print(f'Accuraccy: {correctos/len(tf_test)}')"
      ],
      "execution_count": null,
      "outputs": [
        {
          "output_type": "stream",
          "name": "stdout",
          "text": [
            "Accuraccy: 0.8426551936078672\n"
          ]
        },
        {
          "output_type": "display_data",
          "data": {
            "image/png": "[encoded data removed]",
            "text/plain": [
              "<Figure size 432x288 with 1 Axes>"
            ]
          },
          "metadata": {
            "needs_background": "light"
          }
        }
      ]
    },
    {
      "cell_type": "code",
      "metadata": {
        "colab": {
          "base_uri": "https://localhost:8080/",
          "height": 313
        },
        "id": "EmSlNqAZi89w",
        "outputId": "84921f56-9821-450f-e2af-2d490ef67093"
      },
      "source": [
        "cf = metrics.confusion_matrix(y_test,predicciones_test,labels = [1,0])\n",
        "print(cf)\n",
        "## this command is only for google collab \n",
        "## in the below figure \" 1 is actually showing -1 and 0 is actually showing 1\"\n",
        "fig, ax = plot_confusion_matrix(conf_mat = cf)\n",
        "plt.xlabel('Predicciones')\n",
        "plt.ylabel('Valores esperados')\n",
        "                                \n",
        "## It canbe used in any platform\n",
        "# fig, ax = plot_confusion_matrix(conf_mat = cf, class_names = [1,-1])\n",
        "plt.show()"
      ],
      "execution_count": null,
      "outputs": [
        {
          "output_type": "stream",
          "name": "stdout",
          "text": [
            "[[536 116]\n",
            " [143 832]]\n"
          ]
        },
        {
          "output_type": "display_data",
          "data": {
            "image/png": "[encoded data removed]",
            "text/plain": [
              "<Figure size 432x288 with 1 Axes>"
            ]
          },
          "metadata": {
            "needs_background": "light"
          }
        }
      ]
    },
    {
      "cell_type": "code",
      "metadata": {
        "id": "5SrBHX8Ri-ts",
        "colab": {
          "base_uri": "https://localhost:8080/",
          "height": 312
        },
        "outputId": "755cb4e4-1556-4378-f23e-f46768e4662a"
      },
      "source": [
        "plt.plot(objLogisticRegression2.costHistory)\n",
        "plt.title('Función de costo Descenso del gradiente modificado')\n",
        "plt.xlabel('Iteración')\n",
        "plt.ylabel('Costo')"
      ],
      "execution_count": null,
      "outputs": [
        {
          "output_type": "execute_result",
          "data": {
            "text/plain": [
              "Text(0, 0.5, 'Costo')"
            ]
          },
          "metadata": {},
          "execution_count": 152
        },
        {
          "output_type": "display_data",
          "data": {
            "image/png": "[encoded data removed]",
            "text/plain": [
              "<Figure size 432x288 with 1 Axes>"
            ]
          },
          "metadata": {
            "needs_background": "light"
          }
        }
      ]
    }
  ]
}